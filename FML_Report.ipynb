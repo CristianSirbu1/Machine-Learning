{
  "nbformat": 4,
  "nbformat_minor": 0,
  "metadata": {
    "colab": {
      "name": "FML_Report.ipynb",
      "provenance": [],
      "collapsed_sections": []
    },
    "kernelspec": {
      "name": "python3",
      "display_name": "Python 3"
    },
    "language_info": {
      "name": "python"
    }
  },
  "cells": [
    {
      "cell_type": "code",
      "execution_count": 1,
      "metadata": {
        "colab": {
          "base_uri": "https://localhost:8080/"
        },
        "id": "sNSPLFIi5qEs",
        "outputId": "b7840c25-c603-41c2-ecc2-59160fbfdea7"
      },
      "outputs": [
        {
          "output_type": "stream",
          "name": "stdout",
          "text": [
            "Mounted at /gdrive\n"
          ]
        }
      ],
      "source": [
        "from google.colab import drive\n",
        "drive.mount('/gdrive')"
      ]
    },
    {
      "cell_type": "code",
      "source": [
        "import pandas as pd\n",
        "from scipy.stats import norm\n",
        "import matplotlib.pyplot as plt\n",
        "import numpy as np\n",
        "from sklearn.impute import SimpleImputer\n",
        "from sklearn.preprocessing import MinMaxScaler\n",
        "from sklearn.decomposition import PCA\n",
        "from sklearn.linear_model import Perceptron\n",
        "from sklearn.neural_network import MLPClassifier\n",
        "from sklearn import svm\n",
        "from sklearn.ensemble import RandomForestClassifier\n",
        "from sklearn.linear_model import LogisticRegression\n",
        "from sklearn.model_selection import cross_val_score"
      ],
      "metadata": {
        "id": "EHpavagl5sF0"
      },
      "execution_count": 2,
      "outputs": []
    },
    {
      "cell_type": "code",
      "source": [
        "test = pd.read_csv('/gdrive/MyDrive/uni/FML/data-1/test.csv')\n",
        "training_1 = pd.read_csv('/gdrive/MyDrive/uni/FML/data-1/training1.csv')\n",
        "training_2 = pd.read_csv('/gdrive/MyDrive/uni/FML/data-1/training2.csv')"
      ],
      "metadata": {
        "id": "ZrlgWCGh5-gs"
      },
      "execution_count": 3,
      "outputs": []
    },
    {
      "cell_type": "code",
      "source": [
        "training = pd.concat([training_1,training_2])"
      ],
      "metadata": {
        "id": "C4lieNru5zUb"
      },
      "execution_count": 4,
      "outputs": []
    },
    {
      "cell_type": "code",
      "source": [
        "### CNN Test\n",
        "CNN_test=test.iloc[:,0:4096]\n",
        "\n",
        "### Fill NaN values with mean\n",
        "testCNN_imputer = SimpleImputer(strategy=\"mean\")\n",
        "testCNN_df = pd.DataFrame(testCNN_imputer.fit_transform(CNN_test),columns = CNN_test.columns)\n",
        "\n",
        "### Normalisation\n",
        "Ctest_Scaler = MinMaxScaler()\n",
        "testCNN_df[:] = Ctest_Scaler.fit_transform(testCNN_df[:])\n",
        "testCNN = testCNN_df.values\n",
        "\n",
        "### PCA dimension reduction for using SVM \n",
        "test_PCA = PCA(n_components=50)\n",
        "CNN_test_label = test_PCA.fit_transform(testCNN)"
      ],
      "metadata": {
        "id": "CScxQrOO54Hu"
      },
      "execution_count": 5,
      "outputs": []
    },
    {
      "cell_type": "code",
      "source": [
        "### Gist testing \n",
        "Gist_test = test.iloc[:,4096:]\n",
        "\n",
        "### Fill NaN values with mean\n",
        "testGist_imputer = SimpleImputer(strategy=\"mean\")\n",
        "testGist_df = pd.DataFrame(testGist_imputer.fit_transform(Gist_test),columns = Gist_test.columns)\n",
        "\n",
        "### Normalisation\n",
        "Gtest_Scaler = MinMaxScaler()\n",
        "testGist_df[:] = Gtest_Scaler.fit_transform(testGist_df[:])\n",
        "testGIST = testGist_df.values\n",
        "\n",
        "### PCA dimension reduction for using SVM \n",
        "test_PCAG = PCA(n_components=50)\n",
        "GIST_test_label = test_PCAG.fit_transform(testGIST)"
      ],
      "metadata": {
        "id": "JjZVc3SB6NF3"
      },
      "execution_count": 6,
      "outputs": []
    },
    {
      "cell_type": "markdown",
      "source": [
        "**Trainig the Data and filing the NaN values with the mean value** "
      ],
      "metadata": {
        "id": "38Je842R6Yg4"
      }
    },
    {
      "cell_type": "code",
      "source": [
        "### Training1 CNN\n",
        "t1_CNN = training.iloc[:600,0:4096]\n",
        "t1_CNN_df = pd.DataFrame(t1_CNN)\n",
        "\n",
        "### Normalisation\n",
        "t1C_scaler = MinMaxScaler()\n",
        "t1_CNN_df[:] = t1C_scaler.fit_transform(t1_CNN_df[:])\n",
        "t1CNN = t1_CNN_df.values\n",
        "\n",
        "### PCA dimension reduction for using SVM \n",
        "t1CP = PCA(n_components=50)\n",
        "t1CLable = t1CP.fit_transform(testGIST)"
      ],
      "metadata": {
        "id": "uCRBx9UH6s-Q"
      },
      "execution_count": 7,
      "outputs": []
    },
    {
      "cell_type": "code",
      "source": [
        "### Training1 Gist\n",
        "t1_Gist = training.iloc[:600,4096:-2]\n",
        "t1_Gist_df = pd.DataFrame(t1_Gist)\n",
        "\n",
        "### Normalisation\n",
        "t1G_scaler = MinMaxScaler()\n",
        "t1_Gist_df[:] = t1G_scaler.fit_transform(t1_Gist_df[:])\n",
        "t1Gist = t1_Gist_df.values\n",
        "\n",
        "### PCA dimension reduction for using SVM \n",
        "t1CG = PCA(n_components=50)\n",
        "t1GLable = t1CG.fit_transform(t1Gist)"
      ],
      "metadata": {
        "id": "LUglOlDR63zC"
      },
      "execution_count": 8,
      "outputs": []
    },
    {
      "cell_type": "code",
      "source": [
        "### Training2 CNN\n",
        "t2_CNN = training.iloc[600:,0:4096]\n",
        "\n",
        "### Fill NaN values with mean\n",
        "t2_imputer = SimpleImputer(strategy=\"mean\")\n",
        "t2_CNN_df= pd.DataFrame(t2_imputer.fit_transform(t2_CNN),columns = t2_CNN.columns)\n",
        "\n",
        "### Normalisation\n",
        "t2_Scaler = MinMaxScaler()\n",
        "t2_CNN_df[:] = t2_Scaler.fit_transform(t2_CNN_df[:])\n",
        "t2CNN= t2_CNN_df[:].values\n",
        "\n",
        "### PCA dimension reduction for using SVM \n",
        "t2_PCAC = PCA(n_components=50)\n",
        "t2CLable = t2_PCAC.fit_transform(t2CNN)"
      ],
      "metadata": {
        "id": "46nliZ357KHq"
      },
      "execution_count": 9,
      "outputs": []
    },
    {
      "cell_type": "code",
      "source": [
        "### Training2 Gist\n",
        "t2_Gist = training.iloc[600:,4096:-2]\n",
        "\n",
        "### Fill NaN values with mean\n",
        "t2_imputer = SimpleImputer(strategy=\"mean\")\n",
        "t2_Gist_df= pd.DataFrame(t2_imputer.fit_transform(t2_Gist),columns = t2_Gist.columns)\n",
        "\n",
        "### Normalisation\n",
        "t2G_scaler = MinMaxScaler()\n",
        "t2_Gist_df[:] = t2G_scaler.fit_transform(t2_Gist_df[:])\n",
        "t2Gist = t2_Gist_df.values\n",
        "\n",
        "### PCA dimension reduction for using SVM \n",
        "t2CG = PCA(n_components=50)\n",
        "t2GLable = t2CG.fit_transform(t2Gist)"
      ],
      "metadata": {
        "id": "X8tBokLM7RKb"
      },
      "execution_count": 10,
      "outputs": []
    },
    {
      "cell_type": "markdown",
      "source": [
        "**Extracting the lables into separate array**"
      ],
      "metadata": {
        "id": "o1Fk1puEPWNC"
      }
    },
    {
      "cell_type": "code",
      "source": [
        "### Training  First Label \n",
        "t1_lable = training.iloc[:600,-2]\n",
        "t1Lable = t1_lable.values.reshape(-1)\n",
        "t1Lable.shape"
      ],
      "metadata": {
        "colab": {
          "base_uri": "https://localhost:8080/"
        },
        "id": "P5_Q8RKA78cr",
        "outputId": "ead549a9-f01a-4f88-fd80-9446af683fd9"
      },
      "execution_count": 11,
      "outputs": [
        {
          "output_type": "execute_result",
          "data": {
            "text/plain": [
              "(600,)"
            ]
          },
          "metadata": {},
          "execution_count": 11
        }
      ]
    },
    {
      "cell_type": "code",
      "source": [
        "### Training  Second Label \n",
        "t2_lable = training.iloc[600:,-2]\n",
        "t2Lable = t2_lable.values.reshape(-1)\n",
        "t2Lable.shape"
      ],
      "metadata": {
        "colab": {
          "base_uri": "https://localhost:8080/"
        },
        "id": "GimbZTln8B0b",
        "outputId": "ddc46602-ddba-47fd-c945-60d70e19bd29"
      },
      "execution_count": 12,
      "outputs": [
        {
          "output_type": "execute_result",
          "data": {
            "text/plain": [
              "(2800,)"
            ]
          },
          "metadata": {},
          "execution_count": 12
        }
      ]
    },
    {
      "cell_type": "code",
      "source": [
        "X = t2CLable \n",
        "y = t2Lable\n",
        "X1 = t2GLable\n",
        "print(X.shape,y.shape,X1.shape)"
      ],
      "metadata": {
        "colab": {
          "base_uri": "https://localhost:8080/"
        },
        "id": "weUJAXjx8P5K",
        "outputId": "a8f63d95-5e1b-43e2-b244-852d3cd46f63"
      },
      "execution_count": 13,
      "outputs": [
        {
          "output_type": "stream",
          "name": "stdout",
          "text": [
            "(2800, 50) (2800,) (2800, 50)\n"
          ]
        }
      ]
    },
    {
      "cell_type": "code",
      "source": [
        "### SVM\n",
        "k = svm.SVC(kernel=\"linear\", C=10, gamma=0.001)\n",
        "k.fit(X,y)\n",
        "predictionsK = k.predict(CNN_test_label) \n",
        "\n",
        "### SVM accuracy \n",
        "scores = cross_val_score(k, X, y, scoring=\"accuracy\")\n",
        "np.mean(scores)"
      ],
      "metadata": {
        "colab": {
          "base_uri": "https://localhost:8080/"
        },
        "id": "oNfypEEB8TeA",
        "outputId": "7310994e-4bee-4798-97fc-e27e1f4a5d13"
      },
      "execution_count": 14,
      "outputs": [
        {
          "output_type": "execute_result",
          "data": {
            "text/plain": [
              "0.7375"
            ]
          },
          "metadata": {},
          "execution_count": 14
        }
      ]
    },
    {
      "cell_type": "code",
      "source": [
        "### Save The Results\n",
        "data_df  = pd.DataFrame(predictionsK)\n",
        "data = data_df.to_csv('/gdrive/MyDrive/uni/FML/predictionsAssignment.csv')\n",
        "data_df"
      ],
      "metadata": {
        "colab": {
          "base_uri": "https://localhost:8080/",
          "height": 419
        },
        "id": "7seigEZS-Aza",
        "outputId": "9efe214a-eacf-4991-dcd0-c1eefdf8310d"
      },
      "execution_count": 15,
      "outputs": [
        {
          "output_type": "execute_result",
          "data": {
            "text/plain": [
              "        0\n",
              "0     0.0\n",
              "1     1.0\n",
              "2     1.0\n",
              "3     0.0\n",
              "4     0.0\n",
              "...   ...\n",
              "1995  1.0\n",
              "1996  1.0\n",
              "1997  1.0\n",
              "1998  0.0\n",
              "1999  1.0\n",
              "\n",
              "[2000 rows x 1 columns]"
            ],
            "text/html": [
              "\n",
              "  <div id=\"df-8406a5fd-19ff-4884-940b-2eb0eac68d23\">\n",
              "    <div class=\"colab-df-container\">\n",
              "      <div>\n",
              "<style scoped>\n",
              "    .dataframe tbody tr th:only-of-type {\n",
              "        vertical-align: middle;\n",
              "    }\n",
              "\n",
              "    .dataframe tbody tr th {\n",
              "        vertical-align: top;\n",
              "    }\n",
              "\n",
              "    .dataframe thead th {\n",
              "        text-align: right;\n",
              "    }\n",
              "</style>\n",
              "<table border=\"1\" class=\"dataframe\">\n",
              "  <thead>\n",
              "    <tr style=\"text-align: right;\">\n",
              "      <th></th>\n",
              "      <th>0</th>\n",
              "    </tr>\n",
              "  </thead>\n",
              "  <tbody>\n",
              "    <tr>\n",
              "      <th>0</th>\n",
              "      <td>0.0</td>\n",
              "    </tr>\n",
              "    <tr>\n",
              "      <th>1</th>\n",
              "      <td>1.0</td>\n",
              "    </tr>\n",
              "    <tr>\n",
              "      <th>2</th>\n",
              "      <td>1.0</td>\n",
              "    </tr>\n",
              "    <tr>\n",
              "      <th>3</th>\n",
              "      <td>0.0</td>\n",
              "    </tr>\n",
              "    <tr>\n",
              "      <th>4</th>\n",
              "      <td>0.0</td>\n",
              "    </tr>\n",
              "    <tr>\n",
              "      <th>...</th>\n",
              "      <td>...</td>\n",
              "    </tr>\n",
              "    <tr>\n",
              "      <th>1995</th>\n",
              "      <td>1.0</td>\n",
              "    </tr>\n",
              "    <tr>\n",
              "      <th>1996</th>\n",
              "      <td>1.0</td>\n",
              "    </tr>\n",
              "    <tr>\n",
              "      <th>1997</th>\n",
              "      <td>1.0</td>\n",
              "    </tr>\n",
              "    <tr>\n",
              "      <th>1998</th>\n",
              "      <td>0.0</td>\n",
              "    </tr>\n",
              "    <tr>\n",
              "      <th>1999</th>\n",
              "      <td>1.0</td>\n",
              "    </tr>\n",
              "  </tbody>\n",
              "</table>\n",
              "<p>2000 rows × 1 columns</p>\n",
              "</div>\n",
              "      <button class=\"colab-df-convert\" onclick=\"convertToInteractive('df-8406a5fd-19ff-4884-940b-2eb0eac68d23')\"\n",
              "              title=\"Convert this dataframe to an interactive table.\"\n",
              "              style=\"display:none;\">\n",
              "        \n",
              "  <svg xmlns=\"http://www.w3.org/2000/svg\" height=\"24px\"viewBox=\"0 0 24 24\"\n",
              "       width=\"24px\">\n",
              "    <path d=\"M0 0h24v24H0V0z\" fill=\"none\"/>\n",
              "    <path d=\"M18.56 5.44l.94 2.06.94-2.06 2.06-.94-2.06-.94-.94-2.06-.94 2.06-2.06.94zm-11 1L8.5 8.5l.94-2.06 2.06-.94-2.06-.94L8.5 2.5l-.94 2.06-2.06.94zm10 10l.94 2.06.94-2.06 2.06-.94-2.06-.94-.94-2.06-.94 2.06-2.06.94z\"/><path d=\"M17.41 7.96l-1.37-1.37c-.4-.4-.92-.59-1.43-.59-.52 0-1.04.2-1.43.59L10.3 9.45l-7.72 7.72c-.78.78-.78 2.05 0 2.83L4 21.41c.39.39.9.59 1.41.59.51 0 1.02-.2 1.41-.59l7.78-7.78 2.81-2.81c.8-.78.8-2.07 0-2.86zM5.41 20L4 18.59l7.72-7.72 1.47 1.35L5.41 20z\"/>\n",
              "  </svg>\n",
              "      </button>\n",
              "      \n",
              "  <style>\n",
              "    .colab-df-container {\n",
              "      display:flex;\n",
              "      flex-wrap:wrap;\n",
              "      gap: 12px;\n",
              "    }\n",
              "\n",
              "    .colab-df-convert {\n",
              "      background-color: #E8F0FE;\n",
              "      border: none;\n",
              "      border-radius: 50%;\n",
              "      cursor: pointer;\n",
              "      display: none;\n",
              "      fill: #1967D2;\n",
              "      height: 32px;\n",
              "      padding: 0 0 0 0;\n",
              "      width: 32px;\n",
              "    }\n",
              "\n",
              "    .colab-df-convert:hover {\n",
              "      background-color: #E2EBFA;\n",
              "      box-shadow: 0px 1px 2px rgba(60, 64, 67, 0.3), 0px 1px 3px 1px rgba(60, 64, 67, 0.15);\n",
              "      fill: #174EA6;\n",
              "    }\n",
              "\n",
              "    [theme=dark] .colab-df-convert {\n",
              "      background-color: #3B4455;\n",
              "      fill: #D2E3FC;\n",
              "    }\n",
              "\n",
              "    [theme=dark] .colab-df-convert:hover {\n",
              "      background-color: #434B5C;\n",
              "      box-shadow: 0px 1px 3px 1px rgba(0, 0, 0, 0.15);\n",
              "      filter: drop-shadow(0px 1px 2px rgba(0, 0, 0, 0.3));\n",
              "      fill: #FFFFFF;\n",
              "    }\n",
              "  </style>\n",
              "\n",
              "      <script>\n",
              "        const buttonEl =\n",
              "          document.querySelector('#df-8406a5fd-19ff-4884-940b-2eb0eac68d23 button.colab-df-convert');\n",
              "        buttonEl.style.display =\n",
              "          google.colab.kernel.accessAllowed ? 'block' : 'none';\n",
              "\n",
              "        async function convertToInteractive(key) {\n",
              "          const element = document.querySelector('#df-8406a5fd-19ff-4884-940b-2eb0eac68d23');\n",
              "          const dataTable =\n",
              "            await google.colab.kernel.invokeFunction('convertToInteractive',\n",
              "                                                     [key], {});\n",
              "          if (!dataTable) return;\n",
              "\n",
              "          const docLinkHtml = 'Like what you see? Visit the ' +\n",
              "            '<a target=\"_blank\" href=https://colab.research.google.com/notebooks/data_table.ipynb>data table notebook</a>'\n",
              "            + ' to learn more about interactive tables.';\n",
              "          element.innerHTML = '';\n",
              "          dataTable['output_type'] = 'display_data';\n",
              "          await google.colab.output.renderOutput(dataTable, element);\n",
              "          const docLink = document.createElement('div');\n",
              "          docLink.innerHTML = docLinkHtml;\n",
              "          element.appendChild(docLink);\n",
              "        }\n",
              "      </script>\n",
              "    </div>\n",
              "  </div>\n",
              "  "
            ]
          },
          "metadata": {},
          "execution_count": 15
        }
      ]
    },
    {
      "cell_type": "code",
      "source": [
        "### Check the accuracy based on the number of C\n",
        "p=[]\n",
        "s=[]\n",
        "c = [1,10,100]\n",
        "for i in range(3):\n",
        "  classifier = svm.SVC(kernel='linear' , C = c[i])\n",
        "  classifier.fit(X,y)\n",
        "  p.append(classifier.predict(CNN_test_label))\n",
        "  s.append(cross_val_score(classifier,X,y,scoring='accuracy'))\n",
        "print(s)"
      ],
      "metadata": {
        "colab": {
          "base_uri": "https://localhost:8080/"
        },
        "id": "Vhp_kzmg-Gtl",
        "outputId": "ea50f345-eb42-4b64-9f42-066e73b26d4a"
      },
      "execution_count": 16,
      "outputs": [
        {
          "output_type": "stream",
          "name": "stdout",
          "text": [
            "[array([0.70892857, 0.74821429, 0.71428571, 0.74821429, 0.76428571]), array([0.7125    , 0.74821429, 0.71428571, 0.74821429, 0.76428571]), array([0.7125    , 0.75      , 0.71428571, 0.74821429, 0.76428571])]\n"
          ]
        }
      ]
    },
    {
      "cell_type": "code",
      "source": [
        "### Check the accuracy based on the number of Gamma\n",
        "pr=[]\n",
        "sc=[]\n",
        "ci = [0.0001,0.001,0.01,0.1,1]\n",
        "for i in range(5):\n",
        "  clf = svm.SVC(kernel='linear' , gamma = ci[i])\n",
        "  clf.fit(X,y)\n",
        "  pr.append(clf.predict(CNN_test_label))\n",
        "  sc.append(cross_val_score(clf,X,y,scoring='accuracy'))\n",
        "  np.mean(sc[i])\n",
        "print(sc)"
      ],
      "metadata": {
        "colab": {
          "base_uri": "https://localhost:8080/"
        },
        "id": "hPD1DMAr-KFq",
        "outputId": "56595d25-9f22-4ded-b178-c38941753e84"
      },
      "execution_count": 17,
      "outputs": [
        {
          "output_type": "stream",
          "name": "stdout",
          "text": [
            "[array([0.70892857, 0.74821429, 0.71428571, 0.74821429, 0.76428571]), array([0.70892857, 0.74821429, 0.71428571, 0.74821429, 0.76428571]), array([0.70892857, 0.74821429, 0.71428571, 0.74821429, 0.76428571]), array([0.70892857, 0.74821429, 0.71428571, 0.74821429, 0.76428571]), array([0.70892857, 0.74821429, 0.71428571, 0.74821429, 0.76428571])]\n"
          ]
        }
      ]
    },
    {
      "cell_type": "code",
      "source": [
        "### accuracy rate for Gist data on training_1\n",
        "x =t1CLable[:600]\n",
        "y = t1Lable\n",
        "t1C = svm.SVC()\n",
        "t1C.fit(x,y)\n",
        "predictionT1 = t1C.predict(CNN_test_label)\n",
        "score = cross_val_score(t1C, x, y, scoring='accuracy')\n",
        "np.mean(score)"
      ],
      "metadata": {
        "colab": {
          "base_uri": "https://localhost:8080/"
        },
        "id": "v5BnhIL6-S76",
        "outputId": "43ba9074-3ae3-47c8-c052-88a9b1cfa86d"
      },
      "execution_count": 18,
      "outputs": [
        {
          "output_type": "execute_result",
          "data": {
            "text/plain": [
              "0.5066666666666667"
            ]
          },
          "metadata": {},
          "execution_count": 18
        }
      ]
    },
    {
      "cell_type": "code",
      "source": [
        "from sklearn.model_selection import learning_curve\n",
        "from sklearn.model_selection import ShuffleSplit\n",
        "from sklearn.svm import SVC\n",
        "X=t2CLable\n",
        "y=t2Lable\n",
        "title = \"Learning Curve\"\n",
        "cv = ShuffleSplit(n_splits=10,test_size=0.2,random_state=0)\n",
        "train_sizes, train_scores, test_scores = learning_curve(SVC(gamma = 0.001),X,y,cv=cv,scoring='accuracy',n_jobs=4, train_sizes=np.linspace (.1, 1.0, 5))\n",
        "train_mean = np.mean(train_scores, axis=1)\n",
        "train_std = np.std(train_scores, axis=1)\n",
        "test_mean = np.mean(test_scores, axis=1)\n",
        "test_std = np.std(test_scores, axis=1)"
      ],
      "metadata": {
        "id": "i7GIVfUWLmR-"
      },
      "execution_count": 19,
      "outputs": []
    },
    {
      "cell_type": "code",
      "source": [
        "### Accuracy on the data set\n",
        "plt.plot(train_sizes,train_mean,'o-',color='r',label=\"Training Score\")\n",
        "plt.plot(train_sizes,test_mean,'o-',color='g',label=\"Cross_Validation Score\")\n",
        "plt.fill_between(train_sizes,train_mean-train_std,train_mean+train_std,color='r')\n",
        "plt.fill_between(train_sizes,train_mean-train_std,train_mean+train_std,color='#dfd')\n",
        "plt.legend(loc='best')\n",
        "plt.xlabel(\"Training Examples\")\n",
        "plt.ylabel(\"Score\")\n",
        "plt.title(title)\n",
        "plt.show()"
      ],
      "metadata": {
        "colab": {
          "base_uri": "https://localhost:8080/",
          "height": 295
        },
        "id": "WFYda4kPTK_9",
        "outputId": "da3f1f69-41e1-4e2a-c87b-c7832c04e9c9"
      },
      "execution_count": 20,
      "outputs": [
        {
          "output_type": "display_data",
          "data": {
            "text/plain": [
              "<Figure size 432x288 with 1 Axes>"
            ],
            "image/png": "[encoded data removed]"
          },
          "metadata": {
            "needs_background": "light"
          }
        }
      ]
    }
  ]
}